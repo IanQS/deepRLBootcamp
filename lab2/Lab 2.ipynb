{
 "cells": [
  {
   "cell_type": "code",
   "execution_count": 1,
   "metadata": {
    "ExecuteTime": {
     "end_time": "2018-03-13T19:43:53.775463Z",
     "start_time": "2018-03-13T19:43:47.859976Z"
    }
   },
   "outputs": [
    {
     "name": "stderr",
     "output_type": "stream",
     "text": [
      "/home/ian/.virtualenvs/ml_pytorch/lib/python3.6/site-packages/h5py/__init__.py:34: FutureWarning: Conversion of the second argument of issubdtype from `float` to `np.floating` is deprecated. In future, it will be treated as `np.float64 == np.dtype(float).type`.\n",
      "  from ._conv import register_converters as _register_converters\n"
     ]
    }
   ],
   "source": [
    "\"\"\"\n",
    "This project was developed by Peter Chen, Rocky Duan, Pieter Abbeel for the Berkeley Deep RL Bootcamp, August 2017.\n",
    "Bootcamp website with slides and lecture videos: https://sites.google.com/view/deep-rl-bootcamp/.\n",
    "\n",
    "Code adapted from Stanford CS231N materials: http://cs231n.stanford.edu/\n",
    "\"\"\"\n",
    "\n",
    "\n",
    "# note to properly run this lab, you should execute all code blocks sequentially\n",
    "import chainer\n",
    "import chainer.functions as F\n",
    "import chainer.links as L\n",
    "from chainer import training\n",
    "from chainer.training import extensions\n",
    "\n",
    "from collections import namedtuple, defaultdict, deque\n",
    "\n",
    "import numpy as np\n",
    "\n",
    "%matplotlib inline\n",
    "\n",
    "import matplotlib\n",
    "import matplotlib.pyplot as plt"
   ]
  },
  {
   "cell_type": "markdown",
   "metadata": {},
   "source": [
    "## Introduction to Chainer\n",
    "\n",
    "Chainer can be understood as Numpy plus the ability to record the computation graph of numerical operations to enable Automatic Differentiation. (Chainer actually also offers many other things; for example, a Numpy equivalent library that runs on GPU, but we will ignore them for now)"
   ]
  },
  {
   "cell_type": "markdown",
   "metadata": {},
   "source": [
    "Let's illustrate how Chainer works by a simple 1D regression task.\n",
    "\n",
    "Suppose we have observations from the following model $y = w x + b + \\epsilon$ where $\\epsilon \\sim \\mathcal{N}(0, 0.1)$ and the task is to estimate the linear model parameters $w, b$ from data."
   ]
  },
  {
   "cell_type": "code",
   "execution_count": 2,
   "metadata": {
    "ExecuteTime": {
     "end_time": "2018-03-13T23:29:00.636204Z",
     "start_time": "2018-03-13T23:29:00.417995Z"
    }
   },
   "outputs": [
    {
     "data": {
      "image/png": "[encoded data removed]",
      "text/plain": [
       "<matplotlib.figure.Figure at 0x7f966e255b00>"
      ]
     },
     "metadata": {},
     "output_type": "display_data"
    }
   ],
   "source": [
    "# first generate some observations\n",
    "true_a = 1.3\n",
    "true_b = 0.4\n",
    "data_x = (np.arange(100) / 99.0 - .5).astype(np.float32) # Chainer assumes all the cpu computation is done in float32\n",
    "data_y = (data_x * true_a + true_b + np.random.randn(*data_x.shape) * 0.1).astype(np.float32)\n",
    "_ = plt.scatter(data_x, data_y, c='b')"
   ]
  },
  {
   "cell_type": "markdown",
   "metadata": {},
   "source": [
    "Chainer provides an abstraction called `Link` that describe some computation and keeps track of parameters for it. For instance, a `Linear` link describes a linear map on input and keeps track of `w` and bias `b`."
   ]
  },
  {
   "cell_type": "code",
   "execution_count": 3,
   "metadata": {
    "ExecuteTime": {
     "end_time": "2018-03-13T23:29:52.023381Z",
     "start_time": "2018-03-13T23:29:51.972135Z"
    }
   },
   "outputs": [
    {
     "name": "stdout",
     "output_type": "stream",
     "text": [
      "w: variable W([[1.3852112]])\n",
      "b: variable b([0.])\n",
      "Operations on chainer.Variable: variable([[124.38521]]), type: <class 'chainer.variable.Variable'>\n",
      "numpy arrays: [[1.3852112]] [[124.38521]]\n"
     ]
    }
   ],
   "source": [
    "model = L.Linear(in_size=1, out_size=1) # input is 1D data and output is also 1D data\n",
    "\n",
    "# Chainer will randomly initialize `w` and `b` for us.\n",
    "# we can take a look at their values\n",
    "print(\"w:\", model.W)\n",
    "print(\"b:\", model.b)\n",
    "\n",
    "# model.W and model.b have type `chainer.Variable`, \n",
    "#   which is a wrapper around Numpy array\n",
    "assert isinstance(model.W, chainer.Variable)\n",
    "\n",
    "# operations that involve `chainer.Variable` will produce\n",
    "#   `chainer.Variable` and this records the computation graph\n",
    "var_result = model.W + 123 # some random computation\n",
    "print(\"Operations on chainer.Variable: %s, type: %s\" % (var_result, type(var_result)))\n",
    "\n",
    "# the underlying numpy array can be accessed by `data` attribute\n",
    "print(\"numpy arrays:\", model.W.data, var_result.data)"
   ]
  },
  {
   "cell_type": "code",
   "execution_count": 4,
   "metadata": {
    "ExecuteTime": {
     "end_time": "2018-03-13T23:30:13.964738Z",
     "start_time": "2018-03-13T23:30:13.651453Z"
    }
   },
   "outputs": [
    {
     "data": {
      "image/png": "[encoded data removed]",
      "text/plain": [
       "<matplotlib.figure.Figure at 0x7f966bee5ac8>"
      ]
     },
     "metadata": {},
     "output_type": "display_data"
    }
   ],
   "source": [
    "# A chainer link is a callable object. calling it performs the\n",
    "#   forward computation. (in this case, it performs Wx + b)\n",
    "model_y = model(data_x[:, None]) # chainer's link usually assumes input is [Batch Size, Input Dimension]\n",
    "# `model_y` is a chainer variable so we use `.data` to access its numpy array for plotting\n",
    "\n",
    "# we can plot the model's current fit in red. it should be terrible because we haven't trained it yet\n",
    "_ = plt.plot(data_x, model_y.data[:,0], c='r')\n",
    "_ = plt.scatter(data_x, data_y, c='b')\n",
    "_ = plt.title(\"Initial model\")"
   ]
  },
  {
   "cell_type": "code",
   "execution_count": 5,
   "metadata": {
    "ExecuteTime": {
     "end_time": "2018-03-13T23:30:55.634626Z",
     "start_time": "2018-03-13T23:30:55.616353Z"
    }
   },
   "outputs": [
    {
     "name": "stdout",
     "output_type": "stream",
     "text": [
      "loss variable(0.16490316)\n",
      "dloss/dW [[0.00107924]]\n"
     ]
    }
   ],
   "source": [
    "# now let's walk through how to perform forward computation\n",
    "#  and use AD to get gradients\n",
    "\n",
    "# first we clear the gradients that are stored in the model\n",
    "model.cleargrads()\n",
    "# as we have seen we can perform forward computation by calling the link\n",
    "model_y = model(data_x[:, None])\n",
    "\n",
    "# remember that `model_y` is a chainer variable. to operate on chainer variable\n",
    "#    we will use functions from chainer.functions to operate on those objects.\n",
    "loss = F.mean(F.square(model_y - data_y[:, None]))\n",
    "# `loss` is a scalar chainer variable\n",
    "assert isinstance(loss, chainer.Variable)\n",
    "print(\"loss\", loss)\n",
    "# calculating gradients d loss /d params is as simple as\n",
    "loss.backward()\n",
    "\n",
    "# we can inspect the gradient of loss with respect to W\n",
    "print(\"dloss/dW\", model.W.grad)"
   ]
  },
  {
   "cell_type": "markdown",
   "metadata": {},
   "source": [
    "Now that we know how to calculate gradients, we can code up a simple loop to perform gradient descent to train this model:\n",
    "\n",
    "(Hint: if you run into weird problems, maybe the state has been messed up and you can try re-runing all the code blocks from the beginning)"
   ]
  },
  {
   "cell_type": "code",
   "execution_count": 22,
   "metadata": {
    "ExecuteTime": {
     "end_time": "2018-03-13T23:48:36.686341Z",
     "start_time": "2018-03-13T23:48:36.056598Z"
    }
   },
   "outputs": [
    {
     "name": "stdout",
     "output_type": "stream",
     "text": [
      "Itr 0 loss: variable(0.6717584)\n",
      "Itr 25 loss: variable(0.01634068)\n",
      "Itr 50 loss: variable(0.01044679)\n",
      "Itr 75 loss: variable(0.01037744)\n"
     ]
    },
    {
     "data": {
      "image/png": "[encoded data removed]",
      "text/plain": [
       "<matplotlib.figure.Figure at 0x7f966df7f748>"
      ]
     },
     "metadata": {},
     "output_type": "display_data"
    },
    {
     "data": {
      "image/png": "[encoded data removed]",
      "text/plain": [
       "<matplotlib.figure.Figure at 0x7f966b8f9f60>"
      ]
     },
     "metadata": {},
     "output_type": "display_data"
    }
   ],
   "source": [
    "# now we can perform gradient descent to improve this model\n",
    "model = L.Linear(in_size=1, out_size=1)\n",
    "losses = []\n",
    "\n",
    "alpha = 0.5\n",
    "\n",
    "for i in range(100):\n",
    "    model.cleargrads()\n",
    "    loss = F.mean(F.square(model(data_x[:, None]) - data_y[:, None]))\n",
    "    losses.append(float(loss.data))\n",
    "    ## *** YOUR CODE HERE TO PERFORM GRADIENT DESCENT ***\n",
    "    ## Hint: you could access gradients with model.W.grad, model.b.grad\n",
    "    ## Hint2: you could write data into a parameter with model.W.data[:] = some_numpy_array\n",
    "    ## Hint3: if your model doesn't learn, remember to try different learning rates\n",
    "    loss.backward()\n",
    "    model.W.data[:] -= alpha * model.W.grad_var.data[:]\n",
    "    model.b.data[:] -= alpha * model.b.grad_var.data[:]\n",
    "    \n",
    "    if i % 25 == 0:\n",
    "        print(\"Itr\", i, \"loss:\", loss)\n",
    "plt.plot(np.array(losses))\n",
    "plt.title(\"Learning curve\")\n",
    "plt.figure()\n",
    "plt.plot(data_x, model(data_x[:, None])[:,0].data, c='r')\n",
    "plt.scatter(data_x, data_y, c='b')\n",
    "_ = plt.title(\"Trained model fitness\")\n"
   ]
  },
  {
   "cell_type": "markdown",
   "metadata": {},
   "source": [
    "## Train your first deep model\n",
    "\n",
    "Now we have learned the basics of Chainer. We can use it to train a deep model to classify MNIST digits. We will train a model on the MNIST dataset because the dataset is small.\n",
    "\n",
    "First we load the data and see what the images look like:"
   ]
  },
  {
   "cell_type": "code",
   "execution_count": 23,
   "metadata": {
    "ExecuteTime": {
     "end_time": "2018-03-13T23:53:03.886796Z",
     "start_time": "2018-03-13T23:51:25.802214Z"
    },
    "scrolled": false
   },
   "outputs": [
    {
     "name": "stderr",
     "output_type": "stream",
     "text": [
      "Downloading from http://yann.lecun.com/exdb/mnist/train-images-idx3-ubyte.gz...\n",
      "Downloading from http://yann.lecun.com/exdb/mnist/train-labels-idx1-ubyte.gz...\n",
      "Downloading from http://yann.lecun.com/exdb/mnist/t10k-images-idx3-ubyte.gz...\n",
      "Downloading from http://yann.lecun.com/exdb/mnist/t10k-labels-idx1-ubyte.gz...\n"
     ]
    },
    {
     "name": "stdout",
     "output_type": "stream",
     "text": [
      "train[i][0] is the ith image that's flattened, and has shape: (784,)\n",
      "train[i][1] is the ith image's label, such as: 3\n"
     ]
    },
    {
     "data": {
      "image/png": "[encoded data removed]",
      "text/plain": [
       "<matplotlib.figure.Figure at 0x7f966df553c8>"
      ]
     },
     "metadata": {},
     "output_type": "display_data"
    },
    {
     "data": {
      "image/png": "[encoded data removed]",
      "text/plain": [
       "<matplotlib.figure.Figure at 0x7f966b820a20>"
      ]
     },
     "metadata": {},
     "output_type": "display_data"
    }
   ],
   "source": [
    "train, test = chainer.datasets.get_mnist()\n",
    "# use train[data_point_index] to access data\n",
    "print(\"train[i][0] is the ith image that's flattened, and has shape:\", train[12][0].shape)\n",
    "print(\"train[i][1] is the ith image's label, such as:\", train[12][1])\n",
    "# here we visualize two of them\n",
    "plt.imshow(train[12][0].reshape([28, 28,]))\n",
    "plt.title(\"Label: %s\" % train[12][1])\n",
    "plt.figure()\n",
    "plt.imshow(train[42][0].reshape([28, 28,]))\n",
    "_ = plt.title(\"Label: %s\" % train[42][1])"
   ]
  },
  {
   "cell_type": "markdown",
   "metadata": {},
   "source": [
    "Next we will provide some boilerplate code and train a linear classifier as an example:"
   ]
  },
  {
   "cell_type": "code",
   "execution_count": 24,
   "metadata": {
    "ExecuteTime": {
     "end_time": "2018-03-13T23:54:29.383931Z",
     "start_time": "2018-03-13T23:54:21.456536Z"
    }
   },
   "outputs": [
    {
     "name": "stdout",
     "output_type": "stream",
     "text": [
      "loss: 2.19584584236145; accuracy: 0.25\n",
      "loss: 0.6127787137031555; accuracy: 0.8575\n",
      "loss: 0.5542734432220459; accuracy: 0.86\n",
      "loss: 0.42779133141040804; accuracy: 0.905\n",
      "loss: 0.4022414618730545; accuracy: 0.89\n",
      "loss: 0.3599774223566055; accuracy: 0.895\n",
      "loss: 0.36151438891887666; accuracy: 0.905\n",
      "loss: 0.28887153148651123; accuracy: 0.925\n",
      "loss: 0.3544846510887146; accuracy: 0.8825\n",
      "loss: 0.3505130213499069; accuracy: 0.9125\n",
      "loss: 0.34952166259288786; accuracy: 0.91\n",
      "loss: 0.3356219878792763; accuracy: 0.88\n",
      "loss: 0.2924392706155777; accuracy: 0.905\n",
      "loss: 0.29909527420997617; accuracy: 0.9075\n",
      "loss: 0.24332805663347246; accuracy: 0.94\n",
      "loss: 0.2877213206887245; accuracy: 0.9275\n",
      "loss: 0.30694045037031176; accuracy: 0.9125\n",
      "loss: 0.32381301432847975; accuracy: 0.91\n",
      "loss: 0.3201349130272865; accuracy: 0.9125\n",
      "loss: 0.32351650193333625; accuracy: 0.93\n",
      "loss: 0.2119957010447979; accuracy: 0.9425\n",
      "loss: 0.2822081366181374; accuracy: 0.92\n",
      "loss: 0.25908723562955854; accuracy: 0.9325\n",
      "loss: 0.28207038938999174; accuracy: 0.9225\n",
      "loss: 0.31639569699764253; accuracy: 0.8975\n",
      "loss: 0.3077621465921402; accuracy: 0.92\n"
     ]
    }
   ],
   "source": [
    "def run(model, batchsize=16, num_epochs=2):\n",
    "    \n",
    "    optimizer = chainer.optimizers.Adam() # we will use chainer's Adam implementation instead of writing our own gradient based optimization\n",
    "    optimizer.setup(model)\n",
    "    \n",
    "    stats = defaultdict(lambda: deque(maxlen=25))\n",
    "    for epoch in range(num_epochs):\n",
    "        train_iter = chainer.iterators.SerialIterator(train, batchsize, repeat=False, shuffle=True)\n",
    "        test_iter = chainer.iterators.SerialIterator(test, batchsize, repeat=False, shuffle=False)\n",
    "        \n",
    "        for itr, batch in enumerate(train_iter):\n",
    "            xs = np.concatenate([datum[0][None, :] for datum in batch])\n",
    "            ys = np.array([datum[1] for datum in batch])\n",
    "\n",
    "            logits = model(xs)\n",
    "\n",
    "            loss = F.softmax_cross_entropy(logits, ys)\n",
    "            model.cleargrads()\n",
    "            loss.backward()\n",
    "            optimizer.update()\n",
    "            \n",
    "            # calculate stats\n",
    "            stats[\"loss\"].append(float(loss.data))\n",
    "            stats[\"accuracy\"].append(float((logits.data.argmax(1) == ys).sum() / batchsize))\n",
    "            if itr % 300 == 0:\n",
    "                print(\"; \".join(\"%s: %s\" % (k, np.mean(vs)) for k, vs in stats.items()))\n",
    "\n",
    "# try a simple linear model\n",
    "run(L.Linear(None, 10))"
   ]
  },
  {
   "cell_type": "markdown",
   "metadata": {},
   "source": [
    "Next we will try to improve performance by training an MLP instead. A partial implementation is provided for you to fill in:"
   ]
  },
  {
   "cell_type": "code",
   "execution_count": 27,
   "metadata": {
    "ExecuteTime": {
     "end_time": "2018-03-13T23:59:34.675827Z",
     "start_time": "2018-03-13T23:58:15.070352Z"
    }
   },
   "outputs": [
    {
     "name": "stdout",
     "output_type": "stream",
     "text": [
      "loss: 2.4811649322509766; accuracy: 0.0625\n",
      "loss: 0.4419995105266571; accuracy: 0.8675\n",
      "loss: 0.40362435042858125; accuracy: 0.865\n",
      "loss: 0.3249525314569473; accuracy: 0.9\n",
      "loss: 0.2589023596048355; accuracy: 0.9375\n",
      "loss: 0.2339540708065033; accuracy: 0.925\n",
      "loss: 0.2609255987405777; accuracy: 0.9225\n",
      "loss: 0.26592387676239015; accuracy: 0.9125\n",
      "loss: 0.19744008541107178; accuracy: 0.94\n",
      "loss: 0.17223574459552765; accuracy: 0.955\n",
      "loss: 0.19271243810653688; accuracy: 0.9475\n",
      "loss: 0.1832343953847885; accuracy: 0.95\n",
      "loss: 0.14436855792999267; accuracy: 0.9625\n",
      "loss: 0.15347795128822328; accuracy: 0.9475\n",
      "loss: 0.131530978679657; accuracy: 0.96\n",
      "loss: 0.11710666239261627; accuracy: 0.9675\n",
      "loss: 0.08020513653755187; accuracy: 0.97\n",
      "loss: 0.12528271496295929; accuracy: 0.96\n",
      "loss: 0.12711662590503692; accuracy: 0.9525\n",
      "loss: 0.12612902641296386; accuracy: 0.96\n",
      "loss: 0.09320529222488404; accuracy: 0.97\n",
      "loss: 0.10167089343070984; accuracy: 0.9625\n",
      "loss: 0.11260566115379333; accuracy: 0.965\n",
      "loss: 0.08849810600280762; accuracy: 0.965\n",
      "loss: 0.12948586344718932; accuracy: 0.955\n",
      "loss: 0.1410556650161743; accuracy: 0.9525\n"
     ]
    }
   ],
   "source": [
    "class MLP(chainer.Chain):\n",
    "\n",
    "    def __init__(self, n_units, n_out):\n",
    "        super(MLP, self).__init__()\n",
    "        with self.init_scope():\n",
    "            # the size of the inputs to each layer will be inferred\n",
    "            self.l1 = L.Linear(None, n_units)  # n_in -> n_units\n",
    "            self.l2 = L.Linear(None, n_units)  # n_units -> n_units\n",
    "            self.l3 = L.Linear(None, n_out)  # n_units -> n_out\n",
    "\n",
    "    def __call__(self, x):\n",
    "        # *** YOUR CODE HERE TO BUILD AN MLP W/ self.l1, self.l2, self.l3 ***\n",
    "        # \n",
    "        # Hint: you should make use of non-linearities / activation functions\n",
    "        #     https://docs.chainer.org/en/stable/reference/functions.html#activation-functions\n",
    "        x = F.selu(self.l1(x))\n",
    "        x = F.selu(self.l2(x))\n",
    "        x = self.l3(x)\n",
    "        return x\n",
    "    \n",
    "    \n",
    "run(MLP(200, 10))"
   ]
  },
  {
   "cell_type": "markdown",
   "metadata": {},
   "source": [
    "Next you should try to implement logging test loss and see if the model is overfitting."
   ]
  },
  {
   "cell_type": "code",
   "execution_count": 33,
   "metadata": {
    "ExecuteTime": {
     "end_time": "2018-03-14T00:06:54.775398Z",
     "start_time": "2018-03-14T00:05:29.570112Z"
    }
   },
   "outputs": [
    {
     "name": "stdout",
     "output_type": "stream",
     "text": [
      "loss: 2.350450038909912; accuracy: 0.0625; Test Loss: 0.1507; Test Acc: 2.3698518\n",
      "loss: 0.5455117666721344; accuracy: 0.8425; Test Loss: 0.8687; Test Acc: 0.4381074\n",
      "loss: 0.43046910643577574; accuracy: 0.9025; Test Loss: 0.877; Test Acc: 0.38578096\n",
      "loss: 0.32604567527770995; accuracy: 0.8975; Test Loss: 0.9194; Test Acc: 0.2697442\n",
      "loss: 0.17379823863506316; accuracy: 0.935; Test Loss: 0.9229; Test Acc: 0.24805045\n",
      "loss: 0.27162999331951143; accuracy: 0.915; Test Loss: 0.9303; Test Acc: 0.2338642\n",
      "loss: 0.19688688218593597; accuracy: 0.9375; Test Loss: 0.9354; Test Acc: 0.20571288\n",
      "loss: 0.13350473284721376; accuracy: 0.9575; Test Loss: 0.9446; Test Acc: 0.17808908\n",
      "loss: 0.196239173412323; accuracy: 0.94; Test Loss: 0.9407; Test Acc: 0.19762227\n",
      "loss: 0.12218609035015106; accuracy: 0.9575; Test Loss: 0.9384; Test Acc: 0.19023405\n",
      "loss: 0.18489500761032104; accuracy: 0.945; Test Loss: 0.9506; Test Acc: 0.16837245\n",
      "loss: 0.19347855806350708; accuracy: 0.93; Test Loss: 0.9476; Test Acc: 0.17286721\n",
      "loss: 0.15658241689205168; accuracy: 0.95; Test Loss: 0.958; Test Acc: 0.14617184\n",
      "loss: 0.1336277151107788; accuracy: 0.9625; Test Loss: 0.9519; Test Acc: 0.16257478\n",
      "loss: 0.1626903635263443; accuracy: 0.95; Test Loss: 0.9593; Test Acc: 0.1319781\n",
      "loss: 0.12550496101379394; accuracy: 0.965; Test Loss: 0.9543; Test Acc: 0.14587413\n",
      "loss: 0.1366743701696396; accuracy: 0.95; Test Loss: 0.9502; Test Acc: 0.15653466\n",
      "loss: 0.14645822286605836; accuracy: 0.95; Test Loss: 0.9602; Test Acc: 0.12950271\n",
      "loss: 0.14796161651611328; accuracy: 0.95; Test Loss: 0.9564; Test Acc: 0.14119901\n",
      "loss: 0.1563712501525879; accuracy: 0.9475; Test Loss: 0.9558; Test Acc: 0.14408264\n",
      "loss: 0.10320436894893646; accuracy: 0.97; Test Loss: 0.9562; Test Acc: 0.14100993\n",
      "loss: 0.17215849578380585; accuracy: 0.9375; Test Loss: 0.9581; Test Acc: 0.13834274\n",
      "loss: 0.10020717322826385; accuracy: 0.97; Test Loss: 0.9643; Test Acc: 0.122429475\n",
      "loss: 0.10925520777702331; accuracy: 0.9675; Test Loss: 0.9677; Test Acc: 0.11152469\n",
      "loss: 0.12182769179344177; accuracy: 0.9625; Test Loss: 0.966; Test Acc: 0.11605484\n",
      "loss: 0.12152082860469818; accuracy: 0.965; Test Loss: 0.9609; Test Acc: 0.1327318\n"
     ]
    }
   ],
   "source": [
    "def better_run(model, batchsize=16, num_epochs=2):\n",
    "\n",
    "    optimizer = chainer.optimizers.Adam() # we will use chainer's Adam implementation instead of writing our own gradient based optimization\n",
    "    optimizer.setup(model)\n",
    "    \n",
    "    stats = defaultdict(lambda: deque(maxlen=25))\n",
    "    for epoch in range(num_epochs):\n",
    "        train_iter = chainer.iterators.SerialIterator(train, batchsize, repeat=False, shuffle=True)\n",
    "        for itr, batch in enumerate(train_iter):\n",
    "            xs = np.concatenate([datum[0][None, :] for datum in batch])\n",
    "            ys = np.array([datum[1] for datum in batch])\n",
    "\n",
    "            logits = model(xs)\n",
    "\n",
    "            loss = F.softmax_cross_entropy(logits, ys)\n",
    "            model.cleargrads()\n",
    "            loss.backward()\n",
    "            optimizer.update()\n",
    "            \n",
    "            # calculate stats\n",
    "            stats[\"loss\"].append(float(loss.data))\n",
    "            stats[\"accuracy\"].append(float((logits.data.argmax(1) == ys).sum() / batchsize))\n",
    "            if itr % 300 == 0:\n",
    "                test_iter = chainer.iterators.SerialIterator(test, batchsize, repeat=False, shuffle=False)\n",
    "                # *** YOUR CODE implement logging of stats on test set ***\n",
    "                xs = np.concatenate([dat[0][None,:] for dat in test])\n",
    "                ys = np.array([dat[1] for dat in test])\n",
    "                logits = model(xs)\n",
    "                stats['Test Loss'] = F.accuracy(logits, ys).data\n",
    "                stats['Test Acc'] = F.softmax_cross_entropy(logits, ys).data\n",
    "                print(\"; \".join(\"%s: %s\" % (k, np.mean(vs)) for k, vs in stats.items()))\n",
    "\n",
    "better_run(MLP(200, 10))"
   ]
  },
  {
   "cell_type": "markdown",
   "metadata": {},
   "source": [
    "Try different variants!\n",
    "\n",
    "- Does using a ConvNet improve performance (reduce overfitting?)\n",
    "- Try changing the learning rate and observe the effect\n",
    "- Does the model train if you give it correlated gradients? (consecutively sample many batches of \"1\", then many batches of \"2\", ... etc"
   ]
  }
 ],
 "metadata": {
  "kernelspec": {
   "display_name": "Python 3",
   "language": "python",
   "name": "python3"
  },
  "language_info": {
   "codemirror_mode": {
    "name": "ipython",
    "version": 3
   },
   "file_extension": ".py",
   "mimetype": "text/x-python",
   "name": "python",
   "nbconvert_exporter": "python",
   "pygments_lexer": "ipython3",
   "version": "3.6.4"
  },
  "toc": {
   "colors": {
    "hover_highlight": "#DAA520",
    "navigate_num": "#000000",
    "navigate_text": "#333333",
    "running_highlight": "#FF0000",
    "selected_highlight": "#FFD700",
    "sidebar_border": "#EEEEEE",
    "wrapper_background": "#FFFFFF"
   },
   "moveMenuLeft": true,
   "nav_menu": {
    "height": "48px",
    "width": "252px"
   },
   "navigate_menu": true,
   "number_sections": true,
   "sideBar": true,
   "threshold": 4,
   "toc_cell": false,
   "toc_section_display": "block",
   "toc_window_display": false,
   "widenNotebook": false
  },
  "varInspector": {
   "cols": {
    "lenName": 16,
    "lenType": 16,
    "lenVar": 40
   },
   "kernels_config": {
    "python": {
     "delete_cmd_postfix": "",
     "delete_cmd_prefix": "del ",
     "library": "var_list.py",
     "varRefreshCmd": "print(var_dic_list())"
    },
    "r": {
     "delete_cmd_postfix": ") ",
     "delete_cmd_prefix": "rm(",
     "library": "var_list.r",
     "varRefreshCmd": "cat(var_dic_list()) "
    }
   },
   "types_to_exclude": [
    "module",
    "function",
    "builtin_function_or_method",
    "instance",
    "_Feature"
   ],
   "window_display": true
  }
 },
 "nbformat": 4,
 "nbformat_minor": 1
}
